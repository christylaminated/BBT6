{
 "cells": [
  {
   "cell_type": "code",
   "execution_count": 3,
   "id": "afc7568f",
   "metadata": {},
   "outputs": [],
   "source": [
    "import pandas as pd\n",
    "import matplotlib.pyplot as plt\n",
    "import os"
   ]
  },
  {
   "cell_type": "code",
   "execution_count": 4,
   "id": "f6de03ef",
   "metadata": {},
   "outputs": [],
   "source": [
    "def save_waveforms(df, location):\n",
    "    os.makedirs(location, exist_ok=True)\n",
    "\n",
    "    for sim_id in df[\"sim_id\"].unique():\n",
    "        df_sim = df[df[\"sim_id\"] == sim_id]\n",
    "\n",
    "        plt.figure()\n",
    "        plt.plot(df_sim[\"t_s\"], df_sim[\"Vout\"], label=\"Vout\")\n",
    "        plt.xlabel(\"Time (s)\")\n",
    "        plt.ylabel(\"Voltage (V)\")\n",
    "        plt.title(f\"Wave {sim_id}\")\n",
    "        plt.legend()\n",
    "\n",
    "        outpath = os.path.join(location, f\"wave_sim{sim_id}.png\")\n",
    "        plt.savefig(outpath)\n",
    "        plt.close()\n"
   ]
  },
  {
   "cell_type": "code",
   "execution_count": 5,
   "id": "4bc0cfb7",
   "metadata": {},
   "outputs": [],
   "source": [
    "df = pd.read_csv('processed_waveforms.csv')\n",
    "save_waveforms(df, 'processed_waveforms')"
   ]
  }
 ],
 "metadata": {
  "kernelspec": {
   "display_name": "Python 3",
   "language": "python",
   "name": "python3"
  },
  "language_info": {
   "codemirror_mode": {
    "name": "ipython",
    "version": 3
   },
   "file_extension": ".py",
   "mimetype": "text/x-python",
   "name": "python",
   "nbconvert_exporter": "python",
   "pygments_lexer": "ipython3",
   "version": "3.12.8"
  }
 },
 "nbformat": 4,
 "nbformat_minor": 5
}
